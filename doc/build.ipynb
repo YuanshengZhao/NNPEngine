{
 "cells": [
  {
   "cell_type": "markdown",
   "metadata": {},
   "source": [
    "#### External dependencies (may require modifying CMakeLists.txt)\n",
    "- TensorFlow (C binding)\n",
    "- OpenBLAS\n",
    "- TensorFlow [python, 2.11, (2.12 seems not working)]"
   ]
  },
  {
   "cell_type": "markdown",
   "metadata": {},
   "source": [
    "#### Hard-coded stuffs (need to modify source code on new machines)\n",
    "- Num threads (in `environ.h`)\n",
    "- File path (in some `*.py`)"
   ]
  },
  {
   "cell_type": "markdown",
   "metadata": {},
   "source": []
  }
 ],
 "metadata": {
  "language_info": {
   "name": "python"
  },
  "orig_nbformat": 4
 },
 "nbformat": 4,
 "nbformat_minor": 2
}

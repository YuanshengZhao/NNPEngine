{
 "cells": [
  {
   "attachments": {},
   "cell_type": "markdown",
   "metadata": {},
   "source": [
    "### DA & FMIRL"
   ]
  },
  {
   "attachments": {},
   "cell_type": "markdown",
   "metadata": {},
   "source": [
    "- use same class as pair to avoid extra distance computation\n",
    "- potential in $Q$ space: $U_{ab}(r)=\\sum_Q\\frac{f_a(Q)f_b(Q)}{{\\overline {f(Q)}}^2}U_Qj_0(Qr)$\n",
    "    - DA: $U_Q\\leftarrow W_Q [S_C(Q)-S_E(Q)]$\n",
    "    - FMIRL: $U_Q \\leftarrow (1-\\eta /W_Q)U_Q+\\eta [S_C(Q)-S_E(Q)]$\n",
    "    - L2 is $1/W_Q$\n",
    "\n",
    "- let $V_Q=U_Q/W_Q$, then $U_{ab}(r)=\\sum_Q\\frac{f_a(Q)f_b(Q)}{{\\overline {f(Q)}}^2}W_QV_Qj_0(Qr)$\n",
    "    - DA: $V_Q\\leftarrow [S_C(Q)-S_E(Q)]$\n",
    "    - FMIRL:  $V_Q \\leftarrow (1-\\eta /W_Q)V_Q+\\eta/W_Q [S_C(Q)-S_E(Q)]$\n",
    "        - we further let $\\eta=\\gamma W_Q$, which will not change the fitting\n",
    "        - $V_Q \\leftarrow (1-\\gamma)V_Q+\\gamma [S_C(Q)-S_E(Q)]=V_Q+\\gamma [S_C(Q)-S_E(Q)-V_Q]$"
   ]
  },
  {
   "attachments": {},
   "cell_type": "markdown",
   "metadata": {},
   "source": [
    "### Neural network potential"
   ]
  },
  {
   "attachments": {},
   "cell_type": "markdown",
   "metadata": {},
   "source": [
    "- energy $E=\\sum_i E_i$ with $$E_i=A\\left(\\xi,\\sum_j g(\\theta_{ij}^k,r_{ij})\\right)$$\n",
    "- force $$\\mathbf F_{i}=-\\sum_{j\\ne i}\\left(\\frac {\\partial E}{\\partial g_j^k}+\\frac {\\partial E}{\\partial g_i^k}\\right)\\frac{\\partial g_{ij}^k}{\\partial r_{ij}} \\hat {\\mathbf r} _{ij}\n",
    "=-\\sum_{j}\\frac {\\partial E}{\\partial g_j^k}\\left((1-\\delta_{ij})\\frac{\\partial g_{ij}^k}{\\partial r_{ij}} \\hat {\\mathbf r} _{ij} + \\delta_{ij}\\sum_{l\\ne i} \\frac{\\partial g_{il}^k}{\\partial r_{il}} \\hat {\\mathbf r} _{il}\\right)$$\n",
    "    - instantanious pair force\n",
    "- implementation:\n",
    "    - round 1: compute $\\sum_j\\mathbf g(\\theta,\\mathbf r_i;\\mathbf r_j)$, store result in GLOBAL memory\n",
    "    - round 2: call GPU to compute $\\partial_{\\mathbf g}A$ (and $A$)\n",
    "    - round 3: compute force"
   ]
  },
  {
   "attachments": {},
   "cell_type": "markdown",
   "metadata": {},
   "source": [
    "### Derivitive of parameters"
   ]
  },
  {
   "attachments": {},
   "cell_type": "markdown",
   "metadata": {},
   "source": [
    "- loss $$L=\\sum_i(\\mathbf F_i-\\mathbf F_{i,0})^2 + \\alpha (E-E_0)^2$$"
   ]
  },
  {
   "attachments": {},
   "cell_type": "markdown",
   "metadata": {},
   "source": [
    "- force field potential $u(\\theta,g(\\mathbf r_1,\\mathbf r_2,\\cdots))$:\n",
    "    - energy $$\\partial_\\theta E=\\sum\\partial_\\theta u(\\theta,g(\\mathbf r_1,\\mathbf r_2,\\cdots))$$\n",
    "    - force $$\\partial_\\theta \\mathbf F_i=-\\sum\\partial_\\theta\\partial_g u(\\theta,g) \\partial_{\\mathbf r_i }g$$"
   ]
  },
  {
   "attachments": {},
   "cell_type": "markdown",
   "metadata": {},
   "source": [
    "- NNP potential:\n",
    "    - define $$D_{ij}^k=(1-\\delta_{ij})\\frac{\\partial g_{ij}^k}{\\partial r_{ij}} \\hat {\\mathbf r} _{ij} + \\delta_{ij}\\sum_{l\\ne i} \\frac{\\partial g_{il}^k}{\\partial r_{il}} \\hat {\\mathbf r} _{il}$$\n",
    "    - then everything can be implemented in TF (otherwise, a Jacobian must be returned by TF)\n",
    "    - Force (though this might not be efficient because $D$ is sparse) $$\\mathbf F_{i}=-\\sum_{jk}\\frac {\\partial E}{\\partial g_j^k} D_{ij}^k$$\n",
    "    - losses can be computed from force\n",
    "    - gradient (not used explicitly because included in automatic diffrenciation) $$\\partial_\\xi L_F = -2\\sum_i\\sum_{j\\ne i}(\\mathbf F_i-\\mathbf F_{i,0}-(\\mathbf F_j-\\mathbf F_{j,0}))\\cdot\\hat {\\mathbf r} _{ij}\\frac{\\partial g_{ij}^k}{\\partial r_{ij}}\\left(\\frac {\\partial^2 E}{\\partial \\xi\\partial g_i^k}\\right)$$"
   ]
  },
  {
   "attachments": {},
   "cell_type": "markdown",
   "metadata": {},
   "source": [
    "- gradient of $\\theta$ is computed on cpu $$\\partial_\\theta L_E = 2(E-E_0)\\sum_i\\frac{\\partial E}{\\partial g_i^k}\\frac{\\partial g_i^k}{\\partial \\theta^k}$$\n",
    "$$\\partial_\\theta L_F = -2\\sum_i\\sum_{j\\ne i}(\\mathbf F_i-\\mathbf F_{i,0})\\cdot\\hat {\\mathbf r} _{ij}\\left(\\frac {\\partial E}{\\partial g_j^k}+\\frac {\\partial E}{\\partial g_i^k}\\right)\\frac{\\partial^2 g_{ij}^k}{\\partial \\theta ^k\\partial r_{ij}}$$\n",
    "$$\\partial_\\theta L = 2\\sum_i \\frac{\\partial E}{\\partial g_i^k} \\left\\{(E-E_0)\\sum_{j\\ne i}\\frac{\\partial g_{ij}^k}{\\partial \\theta^k}+\\sum_{j\\ne i}(\\mathbf F_{i,0}-\\mathbf F_i-(\\mathbf F_{j,0}-\\mathbf F_j))\\cdot\\hat {\\mathbf r} _{ij}\\frac{\\partial^2 g_{ij}^k}{\\partial \\theta^k\\partial r_{ij}}\\right\\}$$"
   ]
  },
  {
   "cell_type": "markdown",
   "metadata": {},
   "source": []
  }
 ],
 "metadata": {
  "kernelspec": {
   "display_name": "Python 3",
   "language": "python",
   "name": "python3"
  },
  "language_info": {
   "name": "python",
   "version": "3.11.2"
  },
  "orig_nbformat": 4,
  "vscode": {
   "interpreter": {
    "hash": "1a1af0ee75eeea9e2e1ee996c87e7a2b11a0bebd85af04bb136d915cefc0abce"
   }
  }
 },
 "nbformat": 4,
 "nbformat_minor": 2
}
